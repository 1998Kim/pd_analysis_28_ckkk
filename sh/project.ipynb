{
 "cells": [
  {
   "cell_type": "markdown",
   "id": "c57de419",
   "metadata": {},
   "source": [
    "import requests\n",
    "from selenium import webdriver\n",
    "from bs4 import BeautifulSoup\n",
    "\n",
    "import time\n",
    "\n",
    "driver = webdriver.Chrome()\n",
    "\n",
    "response = requests.get('https://www.bluer.co.kr/search?tabMode=single&query=&foodType=&foodTypeDetail=&feature=&location=&locationDetail=&area=&areaDetail=&ribbonType=RIBBON_THREE&priceRange=&year=&evaluate=&sort=&listType=list&isSearchName=false&searchMode=ribbonType&zone1=&zone2=&zone2Lat=&zone2Lng=')\n",
    "driver.get('https://www.bluer.co.kr/search?tabMode=single&query=&foodType=&foodTypeDetail=&feature=&location=&locationDetail=&area=&areaDetail=&ribbonType=RIBBON_THREE&priceRange=&year=&evaluate=&sort=&listType=list&isSearchName=false&searchMode=ribbonType&zone1=&zone2=&zone2Lat=&zone2Lng=')\n",
    "\n",
    "soup = BeautifulSoup(response.text, 'lxml')\n",
    "\n",
    "print(soup.prettify())\n",
    "\n",
    "driver = webdriver.Chrome()\n",
    "driver.maximize_window()\n",
    "\n",
    "driver.get('https://www.bluer.co.kr/search?tabMode=single&query=&foodType=&foodTypeDetail=&feature=&location=&locationDetail=&area=&areaDetail=&ribbonType=RIBBON_THREE&priceRange=&year=&evaluate=&sort=&listType=list&isSearchName=false&searchMode=ribbonType&zone1=&zone2=&zone2Lat=&zone2Lng=')\n",
    "\n",
    "elem = driver.find_element_by_css_selector('#list-restaurant > li:nth-child(1) > div > header > div.header-title > div:nth-child(2) > h3')\n",
    "elem.click()\n",
    "time.sleep(2)\n",
    "rest1 = driver.current_url\n",
    "time.sleep(2)\n",
    "elem = driver.find_element_by_css_selector('#restaurant-view > div.restaurant-view-panel > header > div.btn-close > button')\n",
    "elem.click()\n",
    "\n",
    "response = requests.get(rest1)\n",
    "soup1 = BeautifulSoup(response.text, 'lxml')\n",
    "\n",
    "soup1.prettify\n",
    "\n",
    "elems = soup1.select('div.header-title')\n",
    "elems\n",
    "\n",
    "name =  elems[0].text.replace('\\n', '').split()[0]\n",
    "name = soup1.select('div.header-title' > h1)\n",
    "print(name)\n",
    "\n",
    "elems = soup1.find('div', {'class': 'box-info border restaurant-info-1' })\n",
    "elems\n",
    "\n",
    "elems = soup1.select('div.box-info border restaurant-info-10')\n",
    "print(elems)\n",
    "\n",
    "call = elems.text\n",
    "print(call,type(call))\n",
    "\n",
    "driver = webdriver.Chrome()\n",
    "\n",
    "driver.get('https://www.bluer.co.kr/search?tabMode=single&query=&foodType=&foodTypeDetail=&feature=&location=&locationDetail=&area=&areaDetail=&ribbonType=RIBBON_THREE&priceRange=&year=&evaluate=&sort=&listType=list&isSearchName=false&searchMode=ribbonType&zone1=&zone2=&zone2Lat=&zone2Lng=')\n",
    "\n",
    "count = 1\n",
    "\n",
    "while True:\n",
    "    if count == 31:\n",
    "        break\n",
    "    elem = driver.find_element_by_css_selector(f'#list-restaurant > li:nth-child({str(count)}) > div > header > div.header-title > div:nth-child(2) > h3')\n",
    "    elem.click()\n",
    "    time.sleep(2)\n",
    "    rest1 = driver.current_url\n",
    "    elem = driver.find_element_by_css_selector('#restaurant-view > div.restaurant-view-panel > header > div.btn-close > button')\n",
    "    elem.click()\n",
    "    time.sleep(2)\n",
    "    count+=1\n"
   ]
  },
  {
   "cell_type": "markdown",
   "id": "86e6f9a8",
   "metadata": {},
   "source": [
    "# 0209 블루 서베이\n",
    "user_agent = \"Mozilla/5.0 (Windows NT 10.0; Win64; x64) AppleWebKit/537.36 (KHTML, like Gecko) Chrome/109.0.0.0 Safari/537.36\"\n",
    "\n",
    "headers = {'User-Agent': user_agent}\n",
    "\n",
    "url = 'https://www.bluer.co.kr/search?tabMode=single&query=&foodType=&foodTypeDetail=&feature=&location=&locationDetail=&area=&areaDetail=&ribbonType=RIBBON_THREE&priceRange=&year=&evaluate=&sort=&listType=list&isSearchName=false&searchMode=ribbonType&zone1=&zone2=&zone2Lat=&zone2Lng='\n",
    "\n",
    "driver = webdriver.Chrome()\n",
    "driver.get(url)\n",
    "\n",
    "elems = driver.find_elements_by_css_selector('div.info')\n",
    "url_all = []\n",
    "i = 0\n",
    "\n",
    "for elem in elems:\n",
    "    elem.click()\n",
    "    time.sleep(1)\n",
    "    now_url = driver.current_url\n",
    "    url_all.append(now_url)\n",
    "    elem = driver.find_element_by_css_selector('#restaurant-view > div.restaurant-view-panel > header > div.btn-close > button')\n",
    "    elem.click()\n",
    "    print(i)\n",
    "    i += 1\n",
    "    time.sleep(1)\n",
    "    \n",
    "\n",
    "titles, addresses, tags, nums, parkings, times, webs, prices, features, instagrams = [], [], [], [], [], [], [], [], [], []\n",
    "    \n",
    "for i in url_all:\n",
    "    response = requests.get(i, headers)\n",
    "    soup = BeautifulSoup(response.text, 'lxml')\n",
    "    \n",
    "    title = soup.select('div.header-title > h1')\n",
    "    address = soup.select('dd:nth-child(4)')\n",
    "    tag = soup.select('div.header-status')\n",
    "    num = soup.select('a.link')\n",
    "    parking = soup.select('dd:nth-child(6)')\n",
    "    open_time = soup.select('#restaurant-view > div.restaurant-view-panel > div > div.box-info.border.restaurant-info-1 > div > div.col-md-6.padding-lg-left > dl > dd:nth-child(2)')\n",
    "    web = soup.select('#restaurant-view > div.restaurant-view-panel > div > div.box-info.border.restaurant-info-1 > div > div.col-md-6.padding-lg-left > dl > dd:nth-child(4) > a')\n",
    "    price = soup.select('#restaurant-view > div.restaurant-view-panel > div > div.box-info.border.restaurant-info-3 > div > div.col-md-6.border-right-lg > dl:nth-child(2) > dd')\n",
    "    feature = soup.select('#restaurant-view > div.restaurant-view-panel > div > div.box-info.border.restaurant-info-3 > div > div.col-md-6.padding-lg-left.border-left-lg > dl:nth-child(4) > dd')\n",
    "    instagram = soup.select('#restaurant-view > div.restaurant-view-panel > div > div.box-info.border.restaurant-info-1 > div > div.col-md-6.padding-lg-left > dl > dd:nth-child(6) > a')\n",
    "    \n",
    "    # lis_feature = feature[0].text.split()\n",
    "    # lis_feature1 = ' '.join(lis_feature).split(',')\n",
    "    \n",
    "    titles.append(title[0].text)\n",
    "    addresses.append(address[0].text)\n",
    "    tags.append((tag[0].text).replace('\\n', ''))\n",
    "    nums.append(num[0].text)\n",
    "    parkings.append(parking[0].text)\n",
    "    times.append((open_time[0].text).replace('\\n', ''))\n",
    "    prices.append(price[0].text)\n",
    "    # features.append(lis_feature1)\n",
    "    if len(web) == 0:\n",
    "        webs.append('NULL')\n",
    "    else:\n",
    "        webs.append(web[0]['href'])\n",
    "    \n",
    "    if len(instagram) == 0:\n",
    "        instagrams.append('NULL')\n",
    "    else:\n",
    "        instagrams.append(instagram[0]['href'])\n",
    "    time.sleep(1)\n",
    "\n",
    "webs, len(webs)"
   ]
  },
  {
   "cell_type": "code",
   "execution_count": 1,
   "id": "e8ee67ca",
   "metadata": {},
   "outputs": [],
   "source": [
    "# 데이터 수집 라이브러리 호출\n",
    "import time\n",
    "import requests\n",
    "import selenium\n",
    "from selenium import webdriver\n",
    "from bs4 import BeautifulSoup\n",
    "\n",
    "# SQL 연결용 라이브러리 호출\n",
    "import pymysql"
   ]
  },
  {
   "cell_type": "code",
   "execution_count": 2,
   "id": "3b635b75",
   "metadata": {},
   "outputs": [],
   "source": [
    "url = 'https://www.vivino.com/explore?e=eJzLLbI11rNQy83MszU0AAK13MQKWxMwK7nS1jtILRlIhKsV2BqqpafZliUWZaaWJOao5Rel2KrlJ1XaqpWXRMcCJcGUEQCDaRfR'\n",
    "\n",
    "options = webdriver.ChromeOptions()\n",
    "options.add_argument('user-agent=Mozilla/5.0 (Windows NT 10.0; Win64; x64) AppleWebKit/537.36 (KHTML, like Gecko) Chrome/109.0.0.0 Safari/537.36')\n",
    "\n",
    "driver = webdriver.Chrome(options=options)\n",
    "driver.get(url)\n",
    "driver.maximize_window()"
   ]
  },
  {
   "cell_type": "code",
   "execution_count": 3,
   "id": "e86bddeb",
   "metadata": {},
   "outputs": [
    {
     "name": "stdout",
     "output_type": "stream",
     "text": [
      "이전 높이 = 10465\n",
      "스크롤 완료 8\n"
     ]
    }
   ],
   "source": [
    "prev_height = driver.execute_script('return document.body.scrollHeight')\n",
    "print(f\"이전 높이 = {prev_height}\")\n",
    "\n",
    "cnt = 0;\n",
    "while True:\n",
    "    driver.execute_script('window.scrollTo(0, document.body.scrollHeight)')\n",
    "    time.sleep(2)\n",
    "\n",
    "    curr_height = driver.execute_script('return document.body.scrollHeight')\n",
    "\n",
    "    if curr_height == prev_height:\n",
    "        driver.execute_script('window.scrollTo(0, 0)')\n",
    "        break\n",
    "    cnt += 1\n",
    "    prev_height = curr_height\n",
    "print('스크롤 완료', cnt)"
   ]
  },
  {
   "cell_type": "code",
   "execution_count": 4,
   "id": "5c9b3822",
   "metadata": {},
   "outputs": [
    {
     "name": "stdout",
     "output_type": "stream",
     "text": [
      "총 주소 갯수 198\n"
     ]
    }
   ],
   "source": [
    "soup = BeautifulSoup(driver.page_source, 'lxml')\n",
    "\n",
    "url_elems = soup.find_all('a', {'class' : 'anchor_anchor__m8Qi- wineCard__cardLink--3F_uB'})\n",
    "link_list = []\n",
    "\n",
    "for url in url_elems:\n",
    "    link_list.append(f\"https://www.vivino.com{url['href']}\")\n",
    "    \n",
    "print(f\"총 주소 갯수 {len(link_list)}\")"
   ]
  },
  {
   "cell_type": "code",
   "execution_count": 5,
   "id": "d6354c6d",
   "metadata": {},
   "outputs": [],
   "source": [
    "# 개별 와인의 url을 받아와서 정보 수집\n",
    "soups = [] # 개별 와인 page의 url정보가 들어갈 리스트\n",
    "\n",
    "for i in range(len(link_list)):\n",
    "    driver = webdriver.Chrome(options=options)\n",
    "    driver.get(link_list[i])\n",
    "    driver.maximize_window()\n",
    "    time.sleep(1)\n",
    "    prev_height = driver.execute_script('return document.body.scrollHeight')\n",
    "\n",
    "    while True:\n",
    "        driver.execute_script('window.scrollTo(0, document.body.scrollHeight)')\n",
    "        time.sleep(2)\n",
    "        \n",
    "        curr_height = driver.execute_script('return document.body.scrollHeight')\n",
    "\n",
    "        if curr_height == prev_height:\n",
    "            driver.execute_script('window.scrollTo(0, 0)')\n",
    "            break\n",
    "        prev_height = curr_height\n",
    "    \n",
    "    soup = BeautifulSoup(driver.page_source, 'lxml')\n",
    "    soups.append(soup)\n",
    "    driver.quit()"
   ]
  },
  {
   "cell_type": "markdown",
   "id": "0e89c10e",
   "metadata": {},
   "source": [
    "- 위 코드 약 45분 실행\n",
    "- 로비에서는 약 57분 실행"
   ]
  },
  {
   "cell_type": "code",
   "execution_count": 14,
   "id": "d79d7969",
   "metadata": {},
   "outputs": [
    {
     "data": {
      "text/plain": [
       "0"
      ]
     },
     "execution_count": 14,
     "metadata": {},
     "output_type": "execute_result"
    }
   ],
   "source": [
    "db = pymysql.connect(host='localhost', port=3306, user='root', passwd='sokm5203', db='mywork', charset='utf8')\n",
    "\n",
    "cursor = db.cursor()\n",
    "\n",
    "sql = \"\"\"\n",
    "    create table wine_list (\n",
    "        wine_name varchar(100) not null,\n",
    "        wine_vintage MEDIUMINT,\n",
    "        wine_rate decimal(4,2),\n",
    "        rating_num MEDIUMINT,\n",
    "        country varchar(100) not null,\n",
    "        region varchar(100) not null,\n",
    "        farm varchar(100) not null,\n",
    "        category varchar(100) not null,\n",
    "        variety  varchar(100) not null, \n",
    "        cost MEDIUMINT,\n",
    "        tasty_note varchar(100),\n",
    "        tasty_num MEDIUMINT\n",
    "    );\n",
    "    \"\"\"\n",
    "\n",
    "cursor.execute(sql)"
   ]
  },
  {
   "cell_type": "code",
   "execution_count": 16,
   "id": "e2524f26",
   "metadata": {},
   "outputs": [],
   "source": [
    "#와인의 정보 수집\n",
    "for i in range(len(soups)):\n",
    "    rate = soups[i].find('div', {'class':'vivinoRating_averageValue__uDdPM'}).text\n",
    "    \n",
    "    if soups[i].find('a', {'class':'wine'}) != None:\n",
    "        name = soups[i].find('a', {'class':'wine'}).text.replace('\\n', '').replace('\\n', '')\n",
    "    else:\n",
    "        name = soups[i].find('span', {'class':'vintage'}).text\n",
    "    \n",
    "    country = soups[i].find('div', {'class':'breadCrumbs__breadCrumbs--2pkcX'}).text.split('·')[0],\n",
    "    region = soups[i].find('div', {'class':'breadCrumbs__breadCrumbs--2pkcX'}).text.split('·')[1],\n",
    "    farm = soups[i].find('div', {'class':'breadCrumbs__breadCrumbs--2pkcX'}).text.split('·')[2],\n",
    "    category = soups[i].find('div', {'class':'breadCrumbs__breadCrumbs--2pkcX'}).text.split('·')[3],#와인종류\n",
    "    variety = soups[i].find('div', {'class':'breadCrumbs__breadCrumbs--2pkcX'}).text.split('·')[4] #포도품종\n",
    "    # cost = soups[i].find('span', {'class':'purchaseAvailabilityPPC__amount--2_4GT'}).text[1:].replace(',','.')\n",
    "    vintage = soups[i].find('span', {'class' : 'vintage'}).text[-5:-1]\n",
    "    rating_num = soups[i].find('div',{'class':'vivinoRating_caption__xL84P'}).text.split(' ')[0]\n",
    "\n",
    "    # 가격정보가 다르게 표기된거 있음\n",
    "    if soups[i].find('span', {'class':'purchaseAvailabilityPPC__amount--2_4GT'}) != None:\n",
    "        cost = soups[i].find('span', {'class':'purchaseAvailabilityPPC__amount--2_4GT'}).text[1:].replace(',','.')\n",
    "    else:\n",
    "        cost = 0\n",
    "        \n",
    "    rate = float(rate)\n",
    "    name = str(name)\n",
    "    country = str(country).translate(str.maketrans(\"()'',\",\"     \")).replace(' ','')\n",
    "    region = str(region).translate(str.maketrans(\"()'',\",\"     \")).replace(' ','')\n",
    "    farm = str(farm).translate(str.maketrans(\"()'',\",\"     \")).replace(' ','')\n",
    "    category =str(category).translate(str.maketrans(\"()'',\",\"     \")).replace(' ','')\n",
    "    variety = str(variety)\n",
    "    cost = float(cost)\n",
    "    rating_num = int(rating_num)\n",
    "    \n",
    "    # vinatge가 없는 와인을 존재 if N.V거나 cato로 표기되어 있음\n",
    "    try:\n",
    "        vintage = int(vintage)\n",
    "    except ValueError:\n",
    "        vintage = 0\n",
    "\n",
    "    a = soups[i].find_all('span', {'class': 'tasteNote__flavorGroup--1Uaen'})[:3]\n",
    "    b =  soups[i].find_all('div', {'class': 'tasteNote__mentions--1T_d5'})[:3]\n",
    "\n",
    "    taste_names = []\n",
    "    taste_nums = []\n",
    "    \n",
    "    for taste_name in a:\n",
    "        taste_names.append(str(taste_name.text))\n",
    "\n",
    "    for taste_num in b:\n",
    "        taste_nums.append(int(taste_num.text.split()[0]))\n",
    "    # print(taste_names, taste_nums)\n",
    "\n",
    "    \n",
    "    if len(a) == 0:\n",
    "        sql = f\"\"\"\n",
    "                INSERT INTO wine_list(wine_name, wine_vintage, wine_rate, rating_num, country, region, farm, category, variety, cost)\n",
    "                    VALUES { name, vintage, rate, rating_num, country, region, farm, category, variety, cost },\n",
    "                           { name, vintage, rate, rating_num, country, region, farm, category, variety, cost },\n",
    "                           { name, vintage, rate, rating_num, country, region, farm, category, variety, cost };\n",
    "                \"\"\"\n",
    "    else:\n",
    "        sql = f\"\"\"\n",
    "                INSERT INTO wine_list()\n",
    "                    VALUES { name, vintage, rate, rating_num, country, region, farm, category, variety, cost, taste_names[0], taste_nums[0] },\n",
    "                           { name, vintage, rate, rating_num, country, region, farm, category, variety, cost, taste_names[1], taste_nums[1] },\n",
    "                           { name, vintage, rate, rating_num, country, region, farm, category, variety, cost, taste_names[2], taste_nums[2] };\n",
    "                \"\"\"\n",
    "\n",
    "    cursor.execute(sql)\n",
    "    db.commit()\n"
   ]
  },
  {
   "cell_type": "code",
   "execution_count": null,
   "id": "c7eb7d5e",
   "metadata": {},
   "outputs": [],
   "source": [
    "db.close()"
   ]
  },
  {
   "cell_type": "code",
   "execution_count": null,
   "id": "1265f75f",
   "metadata": {},
   "outputs": [],
   "source": [
    "# print(soups[1].prettify())\n",
    "\n",
    "a = soups[1].find_all('span', {'class': 'tasteNote__flavorGroup--1Uaen'})[:3]\n",
    "b =  soups[1].find_all('div', {'class': 'tasteNote__mentions--1T_d5'})[:3]\n",
    "print(a, b)"
   ]
  },
  {
   "cell_type": "code",
   "execution_count": 13,
   "id": "3bb9c768",
   "metadata": {},
   "outputs": [
    {
     "name": "stdout",
     "output_type": "stream",
     "text": [
      "198\n"
     ]
    }
   ],
   "source": [
    "print(len(soups))"
   ]
  },
  {
   "cell_type": "code",
   "execution_count": null,
   "id": "8daa60f3",
   "metadata": {},
   "outputs": [],
   "source": [
    "link_list[121]"
   ]
  },
  {
   "cell_type": "code",
   "execution_count": null,
   "id": "6022faa7",
   "metadata": {},
   "outputs": [],
   "source": [
    "print(soups[122].find('span', {'class':'vintage'}).text.replace('\\n', ''))"
   ]
  },
  {
   "cell_type": "code",
   "execution_count": null,
   "id": "0a3cd8a7",
   "metadata": {},
   "outputs": [],
   "source": []
  },
  {
   "cell_type": "code",
   "execution_count": null,
   "id": "84fd9363",
   "metadata": {},
   "outputs": [],
   "source": []
  },
  {
   "cell_type": "code",
   "execution_count": null,
   "id": "8374257f",
   "metadata": {
    "scrolled": true
   },
   "outputs": [],
   "source": []
  },
  {
   "cell_type": "code",
   "execution_count": null,
   "id": "c6cc17b9",
   "metadata": {},
   "outputs": [],
   "source": [
    "'/'.join(taste_names)"
   ]
  },
  {
   "cell_type": "code",
   "execution_count": null,
   "id": "5aa84133",
   "metadata": {},
   "outputs": [],
   "source": [
    "'/'.join(taste_nums)"
   ]
  },
  {
   "cell_type": "code",
   "execution_count": null,
   "id": "bb589950",
   "metadata": {},
   "outputs": [],
   "source": []
  },
  {
   "cell_type": "code",
   "execution_count": null,
   "id": "e1b5644e",
   "metadata": {},
   "outputs": [],
   "source": [
    "# print(type(soups[0]))\n",
    "\n",
    "# print(soups[0].find('div', {'class' : 'vivinoRating_averageValue__uDdPM'}).text)\n",
    "# print(soups[0].find('div', {'class' : 'vivinoRating_caption__xL84P'}).text)\n",
    "\n",
    "# print(soups[0].find('span', {'class': 'vintage'}).text)\n",
    "\n",
    "# print(soups[0].find('div', {'class': 'breadCrumbs__breadCrumbs--2pkcX'}).text)\n",
    "\n",
    "# print(soups[0].find('span', {'class': 'purchaseAvailabilityPPC__amount--2_4GT'}).text)\n",
    "\n",
    "# print(soups[0].find('div', {'class': 'tasteNote__textContainer--2xPXc'}).text)\n",
    "\n",
    "# a = soups[0].find_all('span', {'class': 'tasteNote__flavorGroup--1Uaen'})[:3]\n",
    "# b =  soups[0].find_all('div', {'class': 'tasteNote__mentions--1T_d5'})[:3]\n",
    "\n",
    "# taste_name = []\n",
    "# taste_num = []\n",
    "\n",
    "# for i in a:\n",
    "#     taste_name.append(i.text)\n",
    "\n",
    "# for i in b:\n",
    "#     taste_num.append(int(i.text.split()[0]))\n",
    "\n",
    "# for i in range(3):\n",
    "#     print(taste_name[i], taste_num[i])"
   ]
  },
  {
   "cell_type": "code",
   "execution_count": null,
   "id": "40a78616",
   "metadata": {},
   "outputs": [],
   "source": [
    "db = pymysql.connect(host='localhost', port=3306, user='root', passwd='sokm5203', db='mywork', charset='utf8')\n",
    "\n",
    "cursor = db.cursor()\n",
    "\n",
    "# titles, addresses, tags, nums, parkings, times, webs, prices, features, instagrams\n",
    "\n",
    "sql = \"\"\"\n",
    "    create table test (\n",
    "        title varchar(200) not null,\n",
    "        tag varchar(200) not null,\n",
    "        primary key(title)\n",
    "    );\n",
    "\"\"\"\n",
    "\n",
    "cursor.execute(sql)\n"
   ]
  },
  {
   "cell_type": "code",
   "execution_count": null,
   "id": "f477f952",
   "metadata": {},
   "outputs": [],
   "source": [
    "# sql = f\"\"\"\n",
    "#     INSERT INTO test(title, tag)\n",
    "#         VALUES { str(titles[1].split()[0]), str(tags[1].split('(')[0]) };\n",
    "# \"\"\"\n",
    "\n",
    "sql = f\"\"\"\n",
    "    INSERT INTO test(title, tag)\n",
    "        VALUES { str(titles[1].split()[0]), NoneType };\n",
    "\"\"\"\n",
    "\n",
    "print(sql)\n",
    "\n",
    "cursor.execute(sql)\n",
    "db.commit()\n",
    "db.close()"
   ]
  }
 ],
 "metadata": {
  "kernelspec": {
   "display_name": "Python 3 (ipykernel)",
   "language": "python",
   "name": "python3"
  },
  "language_info": {
   "codemirror_mode": {
    "name": "ipython",
    "version": 3
   },
   "file_extension": ".py",
   "mimetype": "text/x-python",
   "name": "python",
   "nbconvert_exporter": "python",
   "pygments_lexer": "ipython3",
   "version": "3.9.13"
  }
 },
 "nbformat": 4,
 "nbformat_minor": 5
}
